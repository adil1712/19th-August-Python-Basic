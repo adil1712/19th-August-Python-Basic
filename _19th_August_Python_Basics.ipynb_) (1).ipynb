{
 "cells": [
  {
   "cell_type": "code",
   "execution_count": null,
   "id": "442d655a-113e-4763-b7ef-88e3f3b9d45f",
   "metadata": {},
   "outputs": [],
   "source": [
    "#Python Basics Variable"
   ]
  },
  {
   "cell_type": "code",
   "execution_count": 1,
   "id": "eed07554-ba7f-4e86-a10e-5873f2148ea8",
   "metadata": {},
   "outputs": [
    {
     "name": "stdout",
     "output_type": "stream",
     "text": [
      "x = 10\n",
      "y = 5\n"
     ]
    }
   ],
   "source": [
    "#1. Declare two variables, `x` and `y`, and assign them integer values. Swap the values of these variables without using any temporary variable.\n",
    "x = 5\n",
    "y = 10\n",
    "x,y = y,x\n",
    "print(\"x =\",x)\n",
    "print(\"y =\",y)\n",
    "# This code (x,y = y,x) assigns the value of y to x and the value of x to y ,\n",
    "# without the need for a temporary variable. \n",
    "# The line x, y = y, x creates a temporary tuple (y, x) and then unpacks it to assign the values to x and y. \n",
    "# After this, x will contain the original value of y, and\n",
    "# y will contain the original value of x."
   ]
  },
  {
   "cell_type": "code",
   "execution_count": 2,
   "id": "e3d08c43-dafd-4797-bff9-c3401288d4a1",
   "metadata": {},
   "outputs": [
    {
     "name": "stdin",
     "output_type": "stream",
     "text": [
      "Enter the length of the rectangle: 10.5\n",
      "Enter the width of the rectangle: 5.5\n"
     ]
    },
    {
     "name": "stdout",
     "output_type": "stream",
     "text": [
      "The area of the rectangle is: 57.75\n"
     ]
    }
   ],
   "source": [
    "#2. Create a program that calculates the area of a rectangle. Take the length and width as inputs from the user and store them in variables. \n",
    "#Calculate and display the area.\"\n",
    "length = float(input(\"Enter the length of the rectangle:\"))\n",
    "width = float(input(\"Enter the width of the rectangle:\"))\n",
    "area = length * width\n",
    "print(\"The area of the rectangle is:\",area)"
   ]
  },
  {
   "cell_type": "code",
   "execution_count": 2,
   "id": "76dcea6f-a0b4-4f5e-bbd1-647d30c6d4cc",
   "metadata": {},
   "outputs": [
    {
     "name": "stdin",
     "output_type": "stream",
     "text": [
      "Enter the temperature in celsius : 12\n"
     ]
    },
    {
     "name": "stdout",
     "output_type": "stream",
     "text": [
      "53.6 Fahrenheit\n"
     ]
    }
   ],
   "source": [
    "#3. Write a Python program that converts temperatures from Celsius to\n",
    "#Fahrenheit. Take the temperature in Celsius as input, store it in a variable,\n",
    "#convert it to Fahrenheit, and display the result.\n",
    "\n",
    "celsius = float(input(\"Enter the temperature in celsius :\"))\n",
    "print((celsius*9/5)+32,\"Fahrenheit\")"
   ]
  },
  {
   "cell_type": "code",
   "execution_count": null,
   "id": "04c87553-151c-4c0e-816d-9fbfb5b31ef7",
   "metadata": {},
   "outputs": [],
   "source": [
    "#String based Questions "
   ]
  },
  {
   "cell_type": "code",
   "execution_count": 9,
   "id": "ece0e9e6-ec3b-4bd4-a8ed-dedce3eb46be",
   "metadata": {},
   "outputs": [
    {
     "name": "stdin",
     "output_type": "stream",
     "text": [
      "write something here:  Hello World\n"
     ]
    },
    {
     "name": "stdout",
     "output_type": "stream",
     "text": [
      "The lenghth of the string is 11\n"
     ]
    }
   ],
   "source": [
    "# 1)Write a Python program that takes a string as input and prints the length of the string.\n",
    "\n",
    "User_Input = str(input(\"Write something here: \"))\n",
    "print(\"The lenghth of the string is\",len(User_Input))"
   ]
  },
  {
   "cell_type": "code",
   "execution_count": 1,
   "id": "5844a520-8d86-472f-ab95-2826dae45a29",
   "metadata": {},
   "outputs": [
    {
     "name": "stdin",
     "output_type": "stream",
     "text": [
      "Enter a sentence:  A quick brown fox jumps over the lazy dog.\n"
     ]
    },
    {
     "name": "stdout",
     "output_type": "stream",
     "text": [
      "Number of vowels in the sentence: 11\n"
     ]
    }
   ],
   "source": [
    "# 2) Create a program that takes a sentence from the user and counts the number of vowels (a, e, i, o, u) in the string.\n",
    "sentence = input(\"Enter a sentence: \")\n",
    "def count_vowels(sentence):\n",
    "    vowels = \"AEIOUaeiou\"\n",
    "    \n",
    "    count = 0\n",
    "    \n",
    "    for char in sentence:\n",
    "          if char in vowels:\n",
    "            count += 1\n",
    "    \n",
    "    return count\n",
    "\n",
    "print(\"Number of vowels in the sentence:\", count_vowels(sentence))"
   ]
  },
  {
   "cell_type": "code",
   "execution_count": 6,
   "id": "da6d71bb-ccea-46d4-8c4f-db9e0f7a0e5a",
   "metadata": {},
   "outputs": [
    {
     "name": "stdout",
     "output_type": "stream",
     "text": [
      "dlrow olleh\n"
     ]
    }
   ],
   "source": [
    "#3. Given a string, reverse the order of characters using string slicing and print the reversed string.\n",
    "Given_string = \"hello world\"\n",
    "Reversed_string = Given_string[::-1]\n",
    "print(Reversed_string)"
   ]
  },
  {
   "cell_type": "code",
   "execution_count": 3,
   "id": "c4ce3057-5e4b-4900-a09a-b84d24ccb846",
   "metadata": {},
   "outputs": [
    {
     "name": "stdin",
     "output_type": "stream",
     "text": [
      "Enter a string:  racecar\n"
     ]
    },
    {
     "name": "stdout",
     "output_type": "stream",
     "text": [
      "'racecar' is a palindrome.\n"
     ]
    }
   ],
   "source": [
    "#4. Write a program that takes a string as input and checks if it is a palindrome\n",
    "# (reads the same forwards and backwards).\n",
    "\n",
    "def palidrome(input_str):\n",
    "    normal_str = ''.join(input_str.split()).lower()\n",
    "    return normal_str == normal_str[::-1]\n",
    "input_string = input(\"Enter a string: \")\n",
    "\n",
    "if palidrome(input_string):\n",
    "    print(f\"'{input_string}' is a palindrome.\")\n",
    "else:\n",
    "    print(f\"'{input_string}' is not a palindrome.\")"
   ]
  },
  {
   "cell_type": "code",
   "execution_count": 4,
   "id": "11159b9e-7ce7-432d-a4e1-1fb749f51dd0",
   "metadata": {},
   "outputs": [
    {
     "name": "stdin",
     "output_type": "stream",
     "text": [
      "Enter a string:  hello world\n"
     ]
    },
    {
     "name": "stdout",
     "output_type": "stream",
     "text": [
      "Modified string without spaces: helloworld\n"
     ]
    }
   ],
   "source": [
    "#5. Create a program that takes a string as input and removes all the spaces from\n",
    "#it. Print the modified string without spaces.\n",
    "def remove_spaces(input_str):\n",
    "   \n",
    "    modified_str = input_str.replace(\" \", \"\")\n",
    "    return modified_str\n",
    "\n",
    "input_string = input(\"Enter a string: \")\n",
    "\n",
    "result_string = remove_spaces(input_string)\n",
    "\n",
    "print(\"Modified string without spaces:\", result_string)"
   ]
  },
  {
   "cell_type": "code",
   "execution_count": null,
   "id": "847a0c85-0d84-4b11-a7a7-bd8e15a719bc",
   "metadata": {},
   "outputs": [],
   "source": []
  }
 ],
 "metadata": {
  "kernelspec": {
   "display_name": "Python 3 (ipykernel)",
   "language": "python",
   "name": "python3"
  },
  "language_info": {
   "codemirror_mode": {
    "name": "ipython",
    "version": 3
   },
   "file_extension": ".py",
   "mimetype": "text/x-python",
   "name": "python",
   "nbconvert_exporter": "python",
   "pygments_lexer": "ipython3",
   "version": "3.10.8"
  }
 },
 "nbformat": 4,
 "nbformat_minor": 5
}
